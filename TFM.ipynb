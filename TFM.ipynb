{
 "cells": [
  {
   "cell_type": "code",
   "execution_count": 6,
   "metadata": {},
   "outputs": [
    {
     "name": "stdout",
     "output_type": "stream",
     "text": [
      "{'_id': ObjectId('66723f2a3aaa91ccca97c9c0'), 'FileId': '7699af0b-57b8-4a99-9914-0ff6d2219d14', 'FileName': '162374.mp4', 'FolderName': 'Sistemas Cognitivos Artificiales', 'Duration': 258.8, 'SizeMb': 7.503662109375, 'Transcription': [{'Id': 0, 'TranscriptId': '8e00840a-646f-45a0-9a6a-cce5bdf49c22', 'StartTime': 0.0, 'EndTime': 3.0, 'Text': ' y el grado para que lo vean los compañeros.'}, {'Id': 1, 'TranscriptId': '9be744d7-bf3b-4803-b38b-8d92b2374ab9', 'StartTime': 4.0, 'EndTime': 8.0, 'Text': ' Nada, super rápido sobre el tercer entregarme, ¿vale?'}, {'Id': 2, 'TranscriptId': 'e534e8c2-593e-4c2f-8987-674985335ec9', 'StartTime': 8.0, 'EndTime': 12.0, 'Text': ' Ehh, verdaderamente el tercer entregarble es una actividad...'}, {'Id': 3, 'TranscriptId': 'feba3b7a-efc4-429b-8a63-07ac23fb2cc2', 'StartTime': 12.0, 'EndTime': 14.0, 'Text': ' relativamente guía, ¿vale?'}, {'Id': 4, 'TranscriptId': '31519b8f-67aa-4458-a94c-c0bdf22f167c', 'StartTime': 14.0, 'EndTime': 16.0, 'Text': ' Con esto, que es lo que vamos a buscar,'}, {'Id': 5, 'TranscriptId': '9d96b71b-86d3-48ab-ae9f-14d4130c0f28', 'StartTime': 16.0, 'EndTime': 20.0, 'Text': ' ¿veres el impacto que tenemos sobre las regal recurrentes'}, {'Id': 6, 'TranscriptId': '5976d6eb-5a3f-4b34-9f46-854cdfe66c6a', 'StartTime': 20.0, 'EndTime': 23.0, 'Text': ' en la predicción de una serie temporal?'}, {'Id': 7, 'TranscriptId': 'f2131397-006b-4aea-8b25-26a3d908dea1', 'StartTime': 23.0, 'EndTime': 24.0, 'Text': ' ¿vale?'}, {'Id': 8, 'TranscriptId': 'fa0b29f0-b5bd-404b-9d19-1a9bf89ad405', 'StartTime': 25.0, 'EndTime': 28.0, 'Text': ' Los pasos que vamos a tener que ir haciendo'}, {'Id': 9, 'TranscriptId': '855244d7-7b7f-45a8-967c-349533887c16', 'StartTime': 28.0, 'EndTime': 32.0, 'Text': ' después de tener importado nuestro información,'}, {'Id': 10, 'TranscriptId': '3ab26806-fe92-455f-a63a-6c00c12c0550', 'StartTime': 32.0, 'EndTime': 33.0, 'Text': ' nuestros datos y demás?'}, {'Id': 11, 'TranscriptId': 'dd04508b-17b3-41f3-9293-976c6bea16bd', 'StartTime': 34.0, 'EndTime': 36.0, 'Text': ' Nos vamos a ir valiendo un poco,'}, {'Id': 12, 'TranscriptId': '4615f063-0e46-43b5-8929-5c329f44f3e3', 'StartTime': 36.0, 'EndTime': 38.0, 'Text': ' pues de bueno, lo que tenemos que ir haciendo.'}, {'Id': 13, 'TranscriptId': '5b4895db-4239-4dda-8ef9-f17905635a0c', 'StartTime': 38.0, 'EndTime': 42.0, 'Text': ' En este caso de generar una serie de variables,'}, {'Id': 14, 'TranscriptId': '31de3087-e4f4-49fc-96ab-d892ac83c921', 'StartTime': 42.0, 'EndTime': 47.0, 'Text': ' donde vamos a tener nuestros datos de trey ni de ETS.'}, {'Id': 15, 'TranscriptId': '793e5dc8-575f-4265-9572-5bddf7e709d3', 'StartTime': 48.0, 'EndTime': 50.0, 'Text': ' Nos vamos a valer de esta función, que está prefinida,'}, {'Id': 16, 'TranscriptId': '2962ef9a-a38d-49fa-95e6-ac9f1998e53b', 'StartTime': 50.0, 'EndTime': 51.0, 'Text': ' ¿vale?'}, {'Id': 17, 'TranscriptId': 'b1efb831-4390-466a-813c-d1f99823b39c', 'StartTime': 51.0, 'EndTime': 55.0, 'Text': ' Esto si lo Google A, es un poco vais a ver que es una de las estrenpecias más habitual.'}, {'Id': 18, 'TranscriptId': '96685ba0-53d6-4b8d-ab0e-a503345a9799', 'StartTime': 55.0, 'EndTime': 59.0, 'Text': ' ¿Sala hora de trabajar con las seis de este porale?'}, {'Id': 19, 'TranscriptId': '396e3f7b-de93-4a47-8ebd-091c7af10349', 'StartTime': 59.0, 'EndTime': 60.0, 'Text': ' ¿vale?'}, {'Id': 20, 'TranscriptId': 'db71629c-5e6a-4a12-9df0-9a8fc78f2c4b', 'StartTime': 60.0, 'EndTime': 63.0, 'Text': ' De hacer esa ventana de serie temporal.'}, {'Id': 21, 'TranscriptId': '0799a1b0-bfd5-4e81-b2c4-182321f9cfb2', 'StartTime': 63.0, 'EndTime': 67.0, 'Text': ' Esto no es otra cosa de ver cómo hacer ese esplazamiento'}, {'Id': 22, 'TranscriptId': '9597b089-b785-4fc0-821e-bbe592dde461', 'StartTime': 67.0, 'EndTime': 71.0, 'Text': ' sobre los datos y lo Google está diciendo esas presiones.'}, {'Id': 23, 'TranscriptId': 'ca2d0f3d-c2bd-470f-8591-300bdf7bd52a', 'StartTime': 71.0, 'EndTime': 73.0, 'Text': ' De la misma manera que estamos haciendo,'}, {'Id': 24, 'TranscriptId': '5bf077c2-d7eb-46c0-a44a-6f18dcd46ed2', 'StartTime': 73.0, 'EndTime': 75.0, 'Text': ' esta parte de la ventana de datos,'}, {'Id': 25, 'TranscriptId': 'fa4ccff4-9def-4ff9-90a7-2a08742f3a6c', 'StartTime': 75.0, 'EndTime': 77.0, 'Text': ' vamos a tener que hacer una ventana'}, {'Id': 26, 'TranscriptId': '1a8c4ad7-45de-47a9-a149-e20617cdf3d1', 'StartTime': 77.0, 'EndTime': 79.0, 'Text': ' para la parte de la que hice.'}, {'Id': 27, 'TranscriptId': 'd2257aac-501c-4bbe-9c1b-1dd00920fa09', 'StartTime': 79.0, 'EndTime': 80.0, 'Text': ' ¿vale?'}, {'Id': 28, 'TranscriptId': '61814251-3f4c-4d5a-88a3-1aad8080e216', 'StartTime': 80.0, 'EndTime': 83.0, 'Text': ' ¿Qué siguiendo si ofijáis'}, {'Id': 29, 'TranscriptId': 'adee8769-52ec-4dc0-962e-e17b9106d4ec', 'StartTime': 83.0, 'EndTime': 85.0, 'Text': ' un oj paso muy muy similares?'}, {'Id': 30, 'TranscriptId': 'a1381139-60f3-42f8-a441-20936666a317', 'StartTime': 85.0, 'EndTime': 86.0, 'Text': ' ¿vale?'}, {'Id': 31, 'TranscriptId': '002b3bd4-140b-423a-8ab2-cd69dbc3e58a', 'StartTime': 86.0, 'EndTime': 90.0, 'Text': ' En esta generación del modelo respecto a esa ventana que tenemos de ejemplo.'}, {'Id': 32, 'TranscriptId': '093073a2-76a9-4d88-a450-a6618191cb58', 'StartTime': 90.0, 'EndTime': 91.0, 'Text': ' ¿vale?'}, {'Id': 33, 'TranscriptId': '89341a0d-348b-4f34-93b4-b8311e2885f4', 'StartTime': 92.0, 'EndTime': 96.0, 'Text': ' Luego con esto, lo que vamos a hacer es nuestro diseño de la reneuranán.'}, {'Id': 34, 'TranscriptId': '97b51e6b-0ac4-45a0-a387-96ce2de9ed86', 'StartTime': 96.0, 'EndTime': 97.0, 'Text': ' ¿vale?'}, {'Id': 35, 'TranscriptId': '28ce7fb1-9016-4204-a54a-9c09324455be', 'StartTime': 97.0, 'EndTime': 99.0, 'Text': ' En base a esto que que os estamos indicando,'}, {'Id': 36, 'TranscriptId': 'b038c9d2-a3f6-442c-882a-291651dfb0e5', 'StartTime': 99.0, 'EndTime': 100.0, 'Text': ' ¿no?'}, {'Id': 37, 'TranscriptId': '742a06cb-a450-4d5e-943a-9223f0246b3c', 'StartTime': 100.0, 'EndTime': 103.0, 'Text': ' Pues tener una convolución uno de'}, {'Id': 38, 'TranscriptId': 'bf0ec843-47f8-46a7-bd5e-61a9d60c549e', 'StartTime': 103.0, 'EndTime': 107.0, 'Text': ' lo Google ir añadiendo capas de tipo LSTM'}, {'Id': 39, 'TranscriptId': '82a245d3-1ea0-403f-8320-17d58bc3683a', 'StartTime': 107.0, 'EndTime': 110.0, 'Text': ' con las capas densas, donde ya hemos procesado'}, {'Id': 40, 'TranscriptId': 'aa9f118f-0393-46b8-8838-ff185677de12', 'StartTime': 110.0, 'EndTime': 111.0, 'Text': ' una vez que hemos procesado'}, {'Id': 41, 'TranscriptId': '93bac670-cba6-43fc-a5e9-9bb93472a0de', 'StartTime': 111.0, 'EndTime': 115.0, 'Text': ' toda esa información pues tener nuestra parte de esa'}, {'Id': 42, 'TranscriptId': '262b117f-8bee-4bf7-8761-2427dcf5e4e7', 'StartTime': 115.0, 'EndTime': 117.0, 'Text': ' y luego por último,'}, {'Id': 43, 'TranscriptId': 'a0055333-4e83-4965-9575-e55b88a1b085', 'StartTime': 117.0, 'EndTime': 121.0, 'Text': ' la parte final donde tendríamos el resultado.'}, {'Id': 44, 'TranscriptId': '1322f91a-e881-4041-9c6f-f8c62d2ea63f', 'StartTime': 121.0, 'EndTime': 122.0, 'Text': ' ¿vale?'}, {'Id': 45, 'TranscriptId': '102dd358-3a30-4946-90ba-5c646af315ae', 'StartTime': 122.0, 'EndTime': 125.0, 'Text': ' Y luego los pases habituales'}, {'Id': 46, 'TranscriptId': '27327ab2-7068-4d14-8adb-51703cf72f1b', 'StartTime': 125.0, 'EndTime': 127.0, 'Text': ' de entrenamiento y'}, {'Id': 47, 'TranscriptId': '5e019cff-2055-4fe5-8d11-09ce61046f35', 'StartTime': 127.0, 'EndTime': 128.0, 'Text': ' y comparación.'}, {'Id': 48, 'TranscriptId': '83010328-4ccb-4227-9331-bd7f1902ae9a', 'StartTime': 128.0, 'EndTime': 129.0, 'Text': ' ¿vale?'}, {'Id': 49, 'TranscriptId': 'f8a59bd5-8321-499c-b5be-086ec1f4fd1a', 'StartTime': 129.0, 'EndTime': 132.0, 'Text': ' Lo que va a ir sirviendo es que vamos a jugar un poco con esos escenarios.'}, {'Id': 50, 'TranscriptId': '9be67849-1754-4ffd-9408-16d1d598c8b1', 'StartTime': 132.0, 'EndTime': 133.0, 'Text': ' ¿vale?'}, {'Id': 51, 'TranscriptId': '189d21e5-a87e-40af-b166-d7fba96e81df', 'StartTime': 133.0, 'EndTime': 135.0, 'Text': ' Vamos a tener que reproducir el ejercicio'}, {'Id': 52, 'TranscriptId': '1b0a65de-a1a8-442d-a1d0-974275181ae1', 'StartTime': 135.0, 'EndTime': 137.0, 'Text': ' en diferentes escenarios'}, {'Id': 53, 'TranscriptId': 'bd3fe250-70a8-4184-894f-e039d13cad69', 'StartTime': 137.0, 'EndTime': 139.0, 'Text': ' para luego tener los resultados.'}, {'Id': 54, 'TranscriptId': 'effeb87b-4224-4a3f-aa00-7ad3667ed312', 'StartTime': 139.0, 'EndTime': 140.0, 'Text': ' ¿Qué tiene un poco de la ventana?'}, {'Id': 55, 'TranscriptId': 'de6575ea-ed26-4dae-94a6-c091be8c4498', 'StartTime': 140.0, 'EndTime': 144.0, 'Text': ' ¿Qué tiene un poquito de particular este nuevo?'}, {'Id': 56, 'TranscriptId': '9af2a32c-4e17-40fb-8052-71a283aa27f0', 'StartTime': 144.0, 'EndTime': 146.0, 'Text': ' ¿Qué yo pediría que hubiera sido un poco?'}, {'Id': 57, 'TranscriptId': '360d4fbc-01d6-4c35-aeda-2e6869b1455a', 'StartTime': 146.0, 'EndTime': 147.0, 'Text': ' ¿vale?'}, {'Id': 58, 'TranscriptId': '20704064-fc29-4892-be63-6916ea675c4d', 'StartTime': 147.0, 'EndTime': 150.0, 'Text': ' Cuando digo Google, miréis algún repositor y'}, {'Id': 59, 'TranscriptId': '752d7926-1c76-4c76-bc3f-0f72ccd74c6d', 'StartTime': 150.0, 'EndTime': 151.0, 'Text': ' demás, ¿no?'}, {'Id': 60, 'TranscriptId': '801553de-44a7-49b4-a7b6-d80e545c6969', 'StartTime': 151.0, 'EndTime': 153.0, 'Text': ' Que o se enfrenta esa'}, {'Id': 61, 'TranscriptId': '2cb076c4-d7a1-427f-a079-0792dab67b64', 'StartTime': 153.0, 'EndTime': 155.0, 'Text': ' a un poco esa búsqueda de'}, {'Id': 62, 'TranscriptId': '46c7ac92-b736-4eab-817a-385143ca95c5', 'StartTime': 155.0, 'EndTime': 157.0, 'Text': ' soluciones y como se está haciendo.'}, {'Id': 63, 'TranscriptId': '411c0193-2198-40d8-aaa6-798fe22f8fce', 'StartTime': 157.0, 'EndTime': 160.0, 'Text': ' Os digo, es un ejercicio muy guiado.'}, {'Id': 64, 'TranscriptId': 'a7215dd9-cd9b-4d1f-b72a-694f07040be5', 'StartTime': 160.0, 'EndTime': 161.0, 'Text': ' ¿Vale muy muy guiado?'}, {'Id': 65, 'TranscriptId': '73b7f313-21c8-48c0-bdfc-fab134394ebe', 'StartTime': 161.0, 'EndTime': 163.0, 'Text': ' En ese sentido de que'}, {'Id': 66, 'TranscriptId': 'c0181f1c-6ad4-4bba-8196-d9f04717e999', 'StartTime': 163.0, 'EndTime': 165.0, 'Text': ' vais a tener café, hasta que nos minimas'}, {'Id': 67, 'TranscriptId': '7e34ef52-9e89-4516-86d1-f5824c656360', 'StartTime': 165.0, 'EndTime': 168.0, 'Text': ' del código y luego darle al'}, {'Id': 68, 'TranscriptId': 'b3c275cb-6e0a-4438-837a-7607e066d76e', 'StartTime': 168.0, 'EndTime': 171.0, 'Text': ' siestente para irlo'}, {'Id': 69, 'TranscriptId': '9f01db66-89da-4a46-8cda-7122b8a486b3', 'StartTime': 171.0, 'EndTime': 173.0, 'Text': ' para irlo haciendo.'}, {'Id': 70, 'TranscriptId': '6e79fd71-8cbf-4895-8957-f628447b2c1e', 'StartTime': 173.0, 'EndTime': 176.0, 'Text': ' Pero no debería tener'}, {'Id': 71, 'TranscriptId': '331d5581-1327-4936-9e54-c543cee60bf3', 'StartTime': 176.0, 'EndTime': 177.0, 'Text': ' mucha más complicación.'}, {'Id': 72, 'TranscriptId': '14d3064a-1caf-4bd8-a01b-44e3c1a786f4', 'StartTime': 177.0, 'EndTime': 179.0, 'Text': ' Una vez que habéis buscado algo'}, {'Id': 73, 'TranscriptId': '0e5d3b6a-e694-4aad-b742-452987661415', 'StartTime': 179.0, 'EndTime': 181.0, 'Text': ' de forma seco en esto.'}, {'Id': 74, 'TranscriptId': '0e5a3641-06d0-4b2d-96c7-098b8e65f78b', 'StartTime': 181.0, 'EndTime': 183.0, 'Text': ' Y como digo, información'}, {'Id': 75, 'TranscriptId': '70fb3c6e-e39c-47c2-9873-ab9a00f38ebb', 'StartTime': 183.0, 'EndTime': 185.0, 'Text': ' si al final os quedais atascados,'}, {'Id': 76, 'TranscriptId': 'c5c816c0-c782-4105-a70f-ddbda21ea3e0', 'StartTime': 185.0, 'EndTime': 187.0, 'Text': ' porque hay mucha gente que ya lo'}, {'Id': 77, 'TranscriptId': '35ffc5e9-76b9-44d4-b84e-a28cbbd89441', 'StartTime': 187.0, 'EndTime': 189.0, 'Text': ' está entregando y'}, {'Id': 78, 'TranscriptId': 'dc6bd7c4-78dc-45e8-ad33-4227fb8fe29d', 'StartTime': 189.0, 'EndTime': 191.0, 'Text': ' como un un todo el otro foro'}, {'Id': 79, 'TranscriptId': 'e407f5b1-bbdb-41b8-8ed4-476f535f8c01', 'StartTime': 191.0, 'EndTime': 193.0, 'Text': ' se hace, se ha hecho del tiro.'}, {'Id': 80, 'TranscriptId': 'bac6de4a-eafb-42b2-9e9f-0e76e40485cb', 'StartTime': 193.0, 'EndTime': 194.0, 'Text': ' ¿vale?'}, {'Id': 81, 'TranscriptId': '768fb319-a866-4a50-9592-fc4a45c3888d', 'StartTime': 194.0, 'EndTime': 196.0, 'Text': ' Pero creo que si os quedais'}, {'Id': 82, 'TranscriptId': '8d0b223c-6fbe-470d-9235-dc07335bb2d9', 'StartTime': 196.0, 'EndTime': 197.0, 'Text': ' atascados con alguna cosa en concreta,'}, {'Id': 83, 'TranscriptId': '4113c62c-8248-475e-894b-64378f31eb37', 'StartTime': 197.0, 'EndTime': 199.0, 'Text': ' pues puedes encontrar'}, {'Id': 84, 'TranscriptId': '64e0c3df-dc39-498b-85d5-21a7d936c9e6', 'StartTime': 199.0, 'EndTime': 201.0, 'Text': ' mucha referencia a este tipo'}, {'Id': 85, 'TranscriptId': 'e2914b69-9ae0-4026-9996-44281065a2a2', 'StartTime': 201.0, 'EndTime': 202.0, 'Text': ' de modelos.'}, {'Id': 86, 'TranscriptId': 'b59f8085-6fa9-4764-a7b6-128d8163663b', 'StartTime': 202.0, 'EndTime': 204.0, 'Text': ' ¿Vale en el tipo de'}, {'Id': 87, 'TranscriptId': '908ddb1a-23c5-41f2-b785-b9924405d589', 'StartTime': 204.0, 'EndTime': 206.0, 'Text': ' implementación?'}, {'Id': 88, 'TranscriptId': '49c89255-6b10-4c67-b5ee-bd36a806ae0e', 'StartTime': 206.0, 'EndTime': 208.0, 'Text': ' Y poco más'}, {'Id': 89, 'TranscriptId': 'c14352df-64db-4375-8601-6988a94ea323', 'StartTime': 208.0, 'EndTime': 210.0, 'Text': ' aquí, disculpa,'}, {'Id': 90, 'TranscriptId': 'bb1d6c2b-fa22-42b8-ae9b-aa41ca1f6494', 'StartTime': 210.0, 'EndTime': 211.0, 'Text': ' que ya he ido súper rápido,'}, {'Id': 91, 'TranscriptId': '7cb59409-00ab-4180-b711-63d50e561120', 'StartTime': 211.0, 'EndTime': 213.0, 'Text': ' pero es que tengo'}, {'Id': 92, 'TranscriptId': '9a691f86-28b9-4c92-b36f-19e0353ca4c5', 'StartTime': 213.0, 'EndTime': 215.0, 'Text': ' entrar en la siguiente clase.'}, {'Id': 93, 'TranscriptId': 'a8a81524-939b-426a-b990-10b7bd221302', 'StartTime': 215.0, 'EndTime': 217.0, 'Text': ' ¿Cuálquier duda que'}, {'Id': 94, 'TranscriptId': '6a28e88b-d488-4e15-983c-f2e3393a7367', 'StartTime': 217.0, 'EndTime': 219.0, 'Text': ' tenga es con esto'}, {'Id': 95, 'TranscriptId': '92245679-8688-4ab4-94cb-453ffe7a545e', 'StartTime': 219.0, 'EndTime': 220.0, 'Text': ' con algo de lo que hay'}, {'Id': 96, 'TranscriptId': '695d3465-0c6d-4b20-ad43-d02efdf93fe2', 'StartTime': 220.0, 'EndTime': 221.0, 'Text': ' ya hemos estado viendo?'}, {'Id': 97, 'TranscriptId': 'a0f6b187-ae41-4834-99e6-40681c0414e6', 'StartTime': 221.0, 'EndTime': 222.0, 'Text': ' Pues como siempre,'}, {'Id': 98, 'TranscriptId': '01f9bacd-c9eb-42d0-b81d-11e43c903a87', 'StartTime': 222.0, 'EndTime': 224.0, 'Text': ' lo vemos en el foro'}, {'Id': 99, 'TranscriptId': 'af9edfb9-7bcf-4a0c-b993-91344463ee37', 'StartTime': 224.0, 'EndTime': 226.0, 'Text': ' y nos vemos en la semana.'}, {'Id': 100, 'TranscriptId': '3c2af3f5-81f1-49ff-972d-2f66c95a8119', 'StartTime': 226.0, 'EndTime': 227.0, 'Text': ' ¿Vale?'}, {'Id': 101, 'TranscriptId': '163f33ec-9847-46f7-8bb4-6179af03dc30', 'StartTime': 227.0, 'EndTime': 229.0, 'Text': ' No sé si tenéis alguna'}, {'Id': 102, 'TranscriptId': '98d33e01-01e1-471c-9435-a23153f40ac3', 'StartTime': 229.0, 'EndTime': 231.0, 'Text': ' pregunta en el próximo'}, {'Id': 103, 'TranscriptId': '6b533567-422e-4eff-a462-385ba6195fce', 'StartTime': 231.0, 'EndTime': 232.0, 'Text': ' minuto.'}, {'Id': 104, 'TranscriptId': '12dd69fd-e3fe-4805-80d8-08aa23b17685', 'StartTime': 232.0, 'EndTime': 233.0, 'Text': ' Y si lo como siempre,'}, {'Id': 105, 'TranscriptId': '0a512d76-28bf-4d89-9d6e-1ed62a8b3eba', 'StartTime': 233.0, 'EndTime': 235.0, 'Text': ' os en plazo a'}, {'Id': 106, 'TranscriptId': '4f58190f-5360-4c54-8a3b-f7fc909d4ea4', 'StartTime': 235.0, 'EndTime': 237.0, 'Text': ' los foros,'}, {'Id': 107, 'TranscriptId': '055a6377-102b-4abf-9952-5456945c8728', 'StartTime': 237.0, 'EndTime': 238.0, 'Text': ' os he documentado.'}, {'Id': 108, 'TranscriptId': 'a7b5a580-9225-4f84-8e5f-9414612ee21c', 'StartTime': 238.0, 'EndTime': 241.0, 'Text': ' ¿Vale?'}, {'Id': 109, 'TranscriptId': '574f6b3e-36cd-44f0-981c-682b04a65b0a', 'StartTime': 241.0, 'EndTime': 242.0, 'Text': ' ¿Conega?'}, {'Id': 110, 'TranscriptId': '316ddf60-d27c-44d5-afd9-3d1cd9ec325d', 'StartTime': 242.0, 'EndTime': 243.0, 'Text': ' ¿Qué haces a vosotros?'}, {'Id': 111, 'TranscriptId': 'c0468ad7-5a56-43e6-9a5c-e73b33c31c61', 'StartTime': 243.0, 'EndTime': 244.0, 'Text': ' ¿Qué hay?'}, {'Id': 112, 'TranscriptId': '872b418e-82ed-4880-9977-fcce7d78a6ba', 'StartTime': 244.0, 'EndTime': 246.0, 'Text': ' ¿Es una estupenda semana'}, {'Id': 113, 'TranscriptId': '12192925-7e00-4377-b0f3-1faba8dab0f2', 'StartTime': 246.0, 'EndTime': 247.0, 'Text': ' y nos vemos la zona que hay?'}, {'Id': 114, 'TranscriptId': '2c00eca9-f344-411b-af54-548913677d3d', 'StartTime': 247.0, 'EndTime': 248.0, 'Text': ' ¿Vale?'}, {'Id': 115, 'TranscriptId': '19481f56-a093-4132-bb7a-7ef65a5c90ea', 'StartTime': 248.0, 'EndTime': 249.0, 'Text': ' ¿Solo va a todos?'}, {'Id': 116, 'TranscriptId': '930c68fe-ca6a-47dc-9d63-f6c60f136304', 'StartTime': 249.0, 'EndTime': 250.0, 'Text': ' ¿Tab?'}, {'Id': 117, 'TranscriptId': 'df8df619-b008-4a25-b960-07e3ccb26ff3', 'StartTime': 256.0, 'EndTime': 258.0, 'Text': ' ¿Qué hay?'}]}\n"
     ]
    }
   ],
   "source": [
    "import pymongo\n",
    "\n",
    "# Conexión al servidor MongoDB (reemplaza con tus datos)\n",
    "client = pymongo.MongoClient(\"mongodb://localhost:27017/\")\n",
    "\n",
    "# Nombre de la base de datos y colección\n",
    "db_name = \"Metadata\"\n",
    "collection_name = \"Transcription\"\n",
    "\n",
    "# Obtener la base de datos y colección\n",
    "db = client[db_name]\n",
    "collection = db[collection_name]\n",
    "\n",
    "# Realizar la consulta (obtiene todos los documentos)\n",
    "cursor = collection.find({\"FileName\":\"162374.mp4\"})\n",
    "\n",
    "# Iterar sobre los resultados e imprimirlos\n",
    "for documento in cursor:\n",
    "    print(documento)\n"
   ]
  },
  {
   "cell_type": "code",
   "execution_count": 5,
   "metadata": {},
   "outputs": [
    {
     "name": "stdout",
     "output_type": "stream",
     "text": [
      "{'_id': ObjectId('666f674d9abf7c1994f8ddbb'), 'FileName': '88730.mp4', 'FolderName': 'Análisis e interpretación de datos', 'Duration': 600, 'SizeMb': 5.9326171875, 'Transcription': [{'Id': 0, 'StartTime': 0.0, 'EndTime': 9.8, 'Text': ' Muchísimas gracias. Me lié, me lié preguntando, me lié preguntando, eso las dudas de'}, {'Id': 1, 'StartTime': 9.8, 'EndTime': 13.56, 'Text': ' la anterior sesión y se volvió a menos, bueno, me lo que me preguntó.'}, {'Id': 2, 'StartTime': 13.56, 'EndTime': 21.8, 'Text': ' ¿Qué es el piefale? Vale, bueno, nos empezaron de nuevo, creo que vamos a explicar'}, {'Id': 3, 'StartTime': 21.8, 'EndTime': 26.2, 'Text': ' esto que es lo importante, vale. El primero, esta es esta en mar, vale, lo que'}, {'Id': 4, 'StartTime': 26.2, 'EndTime': 33.2, 'Text': ' acabó de hacer los cabeceros están más, ahí problemas con el audio.'}, {'Id': 5, 'StartTime': 33.2, 'EndTime': 38.2, 'Text': ' Si se escuchan de nuevo.'}, {'Id': 6, 'StartTime': 38.2, 'EndTime': 45.879999999999995, 'Text': ' Vale, pues tenemos los cabeceros están mal, vale. La F1 tendría que estar en la N,'}, {'Id': 7, 'StartTime': 45.879999999999995, 'EndTime': 51.28, 'Text': ' la N, la N, la F1, vale. Aquí han seguido lo que están en la primera tabla, pero'}, {'Id': 8, 'StartTime': 51.28, 'EndTime': 56.6, 'Text': ' luego los datos son están intercambi, ¿sual? Así un muy buena preacción siempre'}, {'Id': 9, 'StartTime': 56.6, 'EndTime': 62.480000000000004, 'Text': ' me gustó un cocheo. Bueno, lo que quería hablar es que, a final, la que sí es la variable'}, {'Id': 10, 'StartTime': 62.480000000000004, 'EndTime': 66.8, 'Text': ' que queremos tabular, vale. Si queremos mostrar aquí en la tabla de frecuencias y'}, {'Id': 11, 'StartTime': 66.8, 'EndTime': 69.2, 'Text': ' que bueno, en este caso, es en un labor vital y se viviendas, vale, voy a intentar'}, {'Id': 12, 'StartTime': 69.2, 'EndTime': 73.88, 'Text': ' ir más rápido aquí. Tenemos, tiene cinco valores, pues tiene cinco valores, vale. Y lo'}, {'Id': 13, 'StartTime': 73.88, 'EndTime': 77.84, 'Text': ' que hacemos es tener en la tabla de frecuencias, cada un cuantas veces aparece cada uno'}, {'Id': 14, 'StartTime': 77.84, 'EndTime': 82.28, 'Text': ' de sus jóvenes, vale. La uno parece cinco veces, la dos, tres, dos, tres,'}, {'Id': 15, 'StartTime': 82.28, 'EndTime': 85.88000000000001, 'Text': ' vale. Hasta, hasta, como si eres total de 20, 20 valores, que es lo que tenemos en la'}, {'Id': 16, 'StartTime': 85.88000000000001, 'EndTime': 92.36, 'Text': ' de la tasa, vale. Pues está lo que lo que ya hemos que digo hacer. Luego tenemos las frecuencias'}, {'Id': 17, 'StartTime': 92.36, 'EndTime': 96.68, 'Text': ' absolutas, vale, la N y ya saben, porque está aquí, está de frecuencias cambiada, vale.'}, {'Id': 18, 'StartTime': 96.68, 'EndTime': 100.88, 'Text': ' Creo que hacemos es sumar, vale. Es sumar, pues tenemos para la modeliad de uno, tenemos'}, {'Id': 19, 'StartTime': 100.88, 'EndTime': 105.60000000000001, 'Text': ' el cinco que sería hacer, más cinco, porque no habría ninguna previa. Luego, para'}, {'Id': 20, 'StartTime': 105.6, 'EndTime': 110.24, 'Text': ' modeliados, como ya tenemos en cinco que es en la modeliad de uno, lo que hacemos es'}, {'Id': 21, 'StartTime': 110.24, 'EndTime': 118.8, 'Text': ' sumar la N y mi en el esclad y la N y mi en el esclad y la N y mi en el esclad y lo que'}, {'Id': 22, 'StartTime': 118.8, 'EndTime': 126.03999999999999, 'Text': ' conseguimos es, 11 que sería el N y en el mal esclad y así lo que sería sumando, les sumaríamos'}, {'Id': 23, 'StartTime': 126.03999999999999, 'EndTime': 132.92, 'Text': ' dos, tres, 14, 14, 17, 13, 20, 20, 20, 20, 20, el número total de todo el data ser, porque'}, {'Id': 24, 'StartTime': 132.92, 'EndTime': 137.51999999999998, 'Text': ' lo final, lo que hacemos en la última modelía es el sumatorio de absolutamente todo.'}, {'Id': 25, 'StartTime': 137.51999999999998, 'EndTime': 144.83999999999997, 'Text': ' Y lo, en el tema de las frecuencias relativas, vale, el Feminus Clare, lo que hacemos es'}, {'Id': 26, 'StartTime': 144.83999999999997, 'EndTime': 150.27999999999997, 'Text': ' hablar de los consultajes, ¿vale? ¿Cuántas veces aparece el reformar relativas, una'}, {'Id': 27, 'StartTime': 150.27999999999997, 'EndTime': 155.44, 'Text': ' un data, en este caso, en la modelía zona, aparece el Ría, un 25% de las veces, porque'}, {'Id': 28, 'StartTime': 155.44, 'EndTime': 163.24, 'Text': ' se vean cinco, entre 20, que es el Río 25, ¿vale? Bien, luego pues tenemos, luego tendríamos'}, {'Id': 29, 'StartTime': 163.24, 'EndTime': 167.64, 'Text': ' 30, 30 por ciento de las veces que aparecen yan viviendas con los dormitorios, es'}, {'Id': 30, 'StartTime': 167.64, 'EndTime': 174.44, 'Text': ' y lo que hacemos aquí, con seguir la suma es su, ¿vale? Eso, porca final, lo que tenemos es,'}, {'Id': 31, 'StartTime': 174.44, 'EndTime': 178.88, 'Text': ' es un tanto por ciento, ¿vale? Pues si tenemos todo el data ser y estamos sumando'}, {'Id': 32, 'StartTime': 178.88, 'EndTime': 185.68, 'Text': ' todo los frecuencias de cuántas veces aparecen, cuántas es la proporción de'}, {'Id': 33, 'StartTime': 185.68, 'EndTime': 191.12, 'Text': ' veces que aparece un cierto valor, entre el data ser, al final si lo acabamos sumando'}, {'Id': 34, 'StartTime': 191.12, 'EndTime': 196.92, 'Text': ' todo, te debe de estar de ser, del data ser completo, vale, el 100% de los datos.'}, {'Id': 35, 'StartTime': 196.92, 'EndTime': 200.28, 'Text': ' Y lo mismo pasa con las frecuencias acumuladas relativas, que no es la acumulación de las'}, {'Id': 36, 'StartTime': 200.28, 'EndTime': 206.32, 'Text': ' frecuencias reales, el 35, luego el sumas en el 35, el 65, el 65 que les sumas'}, {'Id': 37, 'StartTime': 206.32, 'EndTime': 213.07999999999998, 'Text': ' en el 35, el 85, el 85 que les saltin, ¿vale? Es imposible un poco lo que'}, {'Id': 38, 'StartTime': 213.07999999999998, 'EndTime': 218.07999999999998, 'Text': ' yo quiero, pero como se me, por completo grabada, pues se nos he perdido un poco'}, {'Id': 39, 'StartTime': 218.07999999999998, 'EndTime': 222.07999999999998, 'Text': ' ahí, pero bueno, es lo que lo fácil, así que no, no pasa. Vale, vamos a hacer'}, {'Id': 40, 'StartTime': 222.07999999999998, 'EndTime': 227.48, 'Text': ' otro ejemplo, ¿vale? Aquí tenemos la variable X que es calificación, es una prueba'}, {'Id': 41, 'StartTime': 227.48, 'EndTime': 231.68, 'Text': ' vale, tenemos un interval que puede ser de 0, así es, vale es un interval aquí estamos'}, {'Id': 42, 'StartTime': 231.68, 'EndTime': 234.68, 'Text': ' hablando de, ¿vale? De, ¿vale? De variables continuos, aquí ya no estamos'}, {'Id': 43, 'StartTime': 234.68, 'EndTime': 239.92000000000002, 'Text': ' hablando de, ahora, tratando con variable X que es el suave, tenemos aquí, lo que tenemos'}, {'Id': 44, 'StartTime': 239.92000000000002, 'EndTime': 244.36, 'Text': ' que hacer aquí entonces es crear interval, vale, crear cientos intervalos, por ejemplo,'}, {'Id': 45, 'StartTime': 244.36, 'EndTime': 249.4, 'Text': ' los paréntesis, vale, os ateremos paréntesis y cocheces, vale, los cocheces sobre su indicar'}, {'Id': 46, 'StartTime': 249.4, 'EndTime': 255.88, 'Text': ' que es cerrado, vale, estamos cogiendo el número, de 0, este primero, es corche de 0, como'}, {'Id': 47, 'StartTime': 255.88, 'EndTime': 260.84000000000003, 'Text': ' 1, paréntesis quiere decir que cogemos, desde el 0 hasta 1, pero 1 no no no llegamos a coge,'}, {'Id': 48, 'StartTime': 260.84, 'EndTime': 266.41999999999996, 'Text': ' vale, cogemos hasta 0, no, no, no, no, no, no, no llegamos a 1, vale, en la siguiente interval'}, {'Id': 49, 'StartTime': 266.41999999999996, 'EndTime': 270.97999999999996, 'Text': ' sería desde 1, cerrado, si estaremos cogiendo 1, hasta 2, a bien, vale, entonces no llegamos'}, {'Id': 50, 'StartTime': 270.97999999999996, 'EndTime': 277.88, 'Text': ' a 2, el siguiente interval del 2, 3, es decir, es decir, vale, hasta 6, vale, que es nuestro'}, {'Id': 51, 'StartTime': 277.88, 'EndTime': 282.88, 'Text': ' nuestro no, más, más, más y, más y, más y, y lo que hacemos es pues la, cogemos, las'}, {'Id': 52, 'StartTime': 282.88, 'EndTime': 287.28, 'Text': ' tablas de, aquí vemos una tabla de fracuncias absolutas, cuantas veces ocurre a'}, {'Id': 53, 'StartTime': 287.28, 'EndTime': 293.35999999999996, 'Text': ' la parte de una variable, se acoge la variable de x, es la modalidad de valor, entre el'}, {'Id': 54, 'StartTime': 293.35999999999996, 'EndTime': 304.32, 'Text': ' interval 0 y 1, vale, pues aquí vemos que una vez, aquí, vale, lo entre 1 y 2, sí,'}, {'Id': 55, 'StartTime': 304.32, 'EndTime': 307.64, 'Text': ' cinco, sí, sonamos cerrados porque a final es decir, lo tenemos que probar, porque es un'}, {'Id': 56, 'StartTime': 307.64, 'EndTime': 313.23999999999995, 'Text': ' último, que es nuestro último, vale, vale, entonces no me da cuenta de explicarlo'}, {'Id': 57, 'StartTime': 313.24, 'EndTime': 318.2, 'Text': ' porque es, pero sí, es alto, incluye al sense, para finales nuestro que habría, vale,'}, {'Id': 58, 'StartTime': 318.2, 'EndTime': 323.08, 'Text': ' bien, por ejemplo, el 2 ocurre en 6 veces, pues tendríamos que buscar todas las veces en'}, {'Id': 59, 'StartTime': 323.08, 'EndTime': 328.8, 'Text': ' la estiparicía a capracir hasta el interval entre 1 y 2, pues este, vale, no, este, este es'}, {'Id': 60, 'StartTime': 328.8, 'EndTime': 338.40000000000003, 'Text': ' este en uno de los incidentes, tendría que ser un centro, buscarlo aquí, vale, no, no, no, pero'}, {'Id': 61, 'StartTime': 338.4, 'EndTime': 344.56, 'Text': ' el tercero del último, vale, perfecto, bueno, que tiene que tener su pistas algunos'}, {'Id': 62, 'StartTime': 344.56, 'EndTime': 350.52, 'Text': ' y están, este es aventos, vale, del tercero y uno, pues este que es decir, es, vale,'}, {'Id': 63, 'StartTime': 350.52, 'EndTime': 358.08, 'Text': ' luego tendríamos todos los unos, todos los unos, tendría que apardecerse, vale, 2, 3,'}, {'Id': 64, 'StartTime': 358.08, 'EndTime': 364.56, 'Text': ' pues no, no, no, pero es tiempo, bueno, os ha quedado claro, como, como haría esto,'}, {'Id': 65, 'StartTime': 364.56, 'EndTime': 369.44, 'Text': ' vale, ya, cuando tenemos que sobrevivir, entre variables discetes y contigo, es decir,'}, {'Id': 66, 'StartTime': 369.44, 'EndTime': 374.6, 'Text': ' el perro es decir el tema de los parentes y el corte, el corte de cuando es cerrado,'}, {'Id': 67, 'StartTime': 374.6, 'EndTime': 379.04, 'Text': ' si, es, cuando es cerrado, quiere decir que está en, en global, lo vale, que está'}, {'Id': 68, 'StartTime': 379.04, 'EndTime': 384.68, 'Text': ' escogiendo esa variable, el valor de seguridad, es, incluye, incluye, cuando es el parente,'}, {'Id': 69, 'StartTime': 384.68, 'EndTime': 390.04, 'Text': ' si, llega hasta el final de ese 1 por el ponerse a lo como 1, que lo unes abierto,'}, {'Id': 70, 'StartTime': 390.40000000000003, 'EndTime': 395.44, 'Text': ' llegué hasta antes del 2, es, bueno, el número de los, el número de los, el número'}, {'Id': 71, 'StartTime': 395.44, 'EndTime': 401.42, 'Text': ' o sea el 0, tan 0 como 0, 0, 0, 0, 0, 0, bueno, el 0, tan 0, como manuelo,'}, {'Id': 72, 'StartTime': 401.42, 'EndTime': 405.74, 'Text': ' aquí, aquí como es un variable es continuas, como va y valores infinitos entre ellas,'}, {'Id': 73, 'StartTime': 405.74, 'EndTime': 409.76, 'Text': ' lo único que tenemos que hablar, es decir, en verbos y límites, vale, es que os han mirado el'}, {'Id': 74, 'StartTime': 409.76, 'EndTime': 416.06, 'Text': 'rímite, es vale, o sea que hay solamente ese remediario, valor en 0, 92 para esa interna,'}, {'Id': 75, 'StartTime': 416.06, 'EndTime': 422.06, 'Text': ' y este era un 92 seguida estando en este interno y si este era un 92 no veno de 99 también'}, {'Id': 76, 'StartTime': 422.06, 'EndTime': 426.06, 'Text': ' en momento en que es uno o uno como algo ya sería el siguiente ¿no?'}, {'Id': 77, 'StartTime': 426.06, 'EndTime': 432.66, 'Text': ' a ok ok ok ok perfecto gracias no sirve como lo vi que quedó en el 1 con 1 como 96 y'}, {'Id': 78, 'StartTime': 432.66, 'EndTime': 437.86, 'Text': ' estaba en el año que me conviene como que me conviene como que lo que no hay nada al que'}, {'Id': 79, 'StartTime': 437.86, 'EndTime': 445.58000000000004, 'Text': ' gracias cosas en directo vale ahora sí que sí queremos trabajar con más con una variable'}, {'Id': 80, 'StartTime': 445.58000000000004, 'EndTime': 452.78000000000003, 'Text': ' en este caso con dos a final lo que tenemos que hacer es pues bueno creamos una matriz en'}, {'Id': 81, 'StartTime': 452.78000000000003, 'EndTime': 458.06, 'Text': ' la que mostramos la cantidad de veces vamos a hablar vamos a tener que luego dividir vale'}, {'Id': 82, 'StartTime': 458.06, 'EndTime': 464.86, 'Text': ' os ha de dividir utilizar otros conceptos otra con el concepto actual vale a la hora de'}, {'Id': 83, 'StartTime': 464.86, 'EndTime': 470.26, 'Text': ' demostrar de tabular la espa le por ejemplo si queremos representar respecto a dos'}, {'Id': 84, 'StartTime': 470.26, 'EndTime': 478.02000000000004, 'Text': ' por y en este aspecto como ejemplo vale que quedamos relacionado a sexo y furmo vale'}, {'Id': 85, 'StartTime': 478.02000000000004, 'EndTime': 485.36, 'Text': ' plan sexo el sexo de una persona vale y el deseo de haber una final o no canponado de'}, {'Id': 86, 'StartTime': 485.36, 'EndTime': 493.42, 'Text': ' futbol que se la utilizan o no es lo suyo es cogerlos cogerlos dimensiones de'}, {'Id': 87, 'StartTime': 493.42, 'EndTime': 498.66, 'Text': ' momento, para para visualizar ahora mismo lo que mejor os bien que lo sí que no mejor que'}, {'Id': 88, 'StartTime': 498.66, 'EndTime': 501.7, 'Text': ' os viene no es lo único que se puede hacer nosotros tenemos capacidad de hacer la'}, {'Id': 89, 'StartTime': 501.7, 'EndTime': 507.42, 'Text': ' para visualizar esto con le o loscillos utilizar simplemente dos vale sí'}, {'Id': 90, 'StartTime': 507.42, 'EndTime': 513.98, 'Text': ' lo tres utilizar respecto a una otra vale y realizar este tipo de tablas lo que si cogí'}, {'Id': 91, 'StartTime': 513.98, 'EndTime': 520.9, 'Text': ' es una tercera dimensión aquí sí la puede en una gráfica aquí atrás sí que la puede'}, {'Id': 92, 'StartTime': 520.9, 'EndTime': 526.62, 'Text': ' su representar en condiciones vale pues representar valores entre estringciones o que'}, {'Id': 93, 'StartTime': 526.62, 'EndTime': 531.06, 'Text': ' pero aquí no puede representar estringciones vale os aquí aquí tiene el dos en'}, {'Id': 94, 'StartTime': 531.06, 'EndTime': 536.06, 'Text': ' dos mal aquí tenemos que usar siempre dos enormes bien como como está esto definido'}, {'Id': 95, 'StartTime': 536.06, 'EndTime': 542.02, 'Text': ' vale tenemos la variabilidad vale tenemos la una hora variable x y la variable vale y luego'}, {'Id': 96, 'StartTime': 542.02, 'EndTime': 550.78, 'Text': ' tenemos los valores que cojen que cojen para la variable esta en el fútbol'}, {'Id': 97, 'StartTime': 550.78, 'EndTime': 557.9399999999999, 'Text': ' vale si eres un hombre y te gusta o sea y tienes tu deseo de ver el campeonato de fútbol vale'}, {'Id': 98, 'StartTime': 558.66, 'EndTime': 563.14, 'Text': ' marcas cuántos hombres han dicho que sí quieren pues en este caso se dían seres'}, {'Id': 99, 'StartTime': 564.86, 'EndTime': 571.02, 'Text': ' luego habría otro hombre que diría que no que no quiere ver yo entonces la suma de todos los'}, {'Id': 100, 'StartTime': 571.02, 'EndTime': 575.6999999999999, 'Text': ' hombres en cuestados la suma de todos los hombres que de los que tenemos datos vale serían'}, {'Id': 101, 'StartTime': 575.7, 'EndTime': 581.3000000000001, 'Text': ' 7 vamos tenemos datos sobre 7 hombres luego las mujeres hemos tenemos un hombre que ha dicho'}, {'Id': 102, 'StartTime': 581.3000000000001, 'EndTime': 585.3000000000001, 'Text': ' que quiere ver fútbol vale yo traen mujer que ha dicho que no y otras cuatro mujeres que han dicho'}, {'Id': 103, 'StartTime': 585.3000000000001, 'EndTime': 590.5, 'Text': ' que no quieren ver fútbol vale la dotar total es 5 tenemos cinco mujeres y 7 hombres y el'}, {'Id': 104, 'StartTime': 590.5, 'EndTime': 597.5, 'Text': ' total de toda nuestra cojuntidad dos es 12 tiene que ser la suma de toda la fila como'}, {'Id': 105, 'StartTime': 597.5, 'EndTime': 599.5, 'Text': ' era de última fila que por la última columna vale tiene'}]}\n"
     ]
    }
   ],
   "source": [
    "# Realizar la consulta (obtiene todos los documentos)\n",
    "filter = {\n",
    "    \"FolderName\":\"Análisis e interpretación de datos\",\n",
    "    \"FileName\":\"88730.mp4\"\n",
    "    }\n",
    "cursor = collection.find(filter)\n",
    "\n",
    "# Iterar sobre los resultados e imprimirlos\n",
    "for documento in cursor:\n",
    "    print(documento)"
   ]
  },
  {
   "cell_type": "code",
   "execution_count": 7,
   "metadata": {},
   "outputs": [
    {
     "name": "stdout",
     "output_type": "stream",
     "text": [
      "0 documentos eliminados\n"
     ]
    }
   ],
   "source": [
    "result = collection.delete_many(filter)\n",
    "print(result.deleted_count, \"documentos eliminados\")"
   ]
  },
  {
   "cell_type": "code",
   "execution_count": 7,
   "metadata": {},
   "outputs": [
    {
     "name": "stdout",
     "output_type": "stream",
     "text": [
      "{'_id': ObjectId('666f9b50da1ca2495a147728'), 'FileName': '86970.mp4', 'FolderName': 'Análisis e interpretación de datos', 'Duration': 600, 'Transcription': [{'Id': 0, 'TranscriptId': '4f9b6965-97d7-4c2a-90f3-015e098f4a53', 'StartTime': 60.0, 'EndTime': 74.46000000000001, 'Text': ' Bueno, pues podemos empezar. Soy Jara Mesquita, voy a hacer gusto profesor en la'}]}\n"
     ]
    }
   ],
   "source": [
    "# El TranscriptId que estás buscando\n",
    "transcript_id = '4f9b6965-97d7-4c2a-90f3-015e098f4a53'\n",
    "\n",
    "# Consulta para encontrar la transcripción específica\n",
    "resultado = collection.find_one(\n",
    "    {'Transcription.TranscriptId': transcript_id},\n",
    "    {\n",
    "        'Duration':1,\n",
    "        'FileName':1,\n",
    "        'FolderName':1,\n",
    "        'Transcription.$': 1 \n",
    "    }  # Proyección para devolver solo la transcripción específica\n",
    ")\n",
    "\n",
    "# Imprimir el resultado\n",
    "print(resultado)"
   ]
  },
  {
   "cell_type": "code",
   "execution_count": 2,
   "metadata": {},
   "outputs": [
    {
     "name": "stdout",
     "output_type": "stream",
     "text": [
      "Total de elementos en la colección: 26831\n",
      "Total de elementos en la colección: 26831\n"
     ]
    },
    {
     "data": {
      "text/plain": [
       "{'ids': [[]],\n",
       " 'distances': None,\n",
       " 'metadatas': [[]],\n",
       " 'embeddings': [[]],\n",
       " 'documents': [[]],\n",
       " 'uris': None,\n",
       " 'data': None,\n",
       " 'included': ['embeddings', 'metadatas', 'documents']}"
      ]
     },
     "execution_count": 2,
     "metadata": {},
     "output_type": "execute_result"
    }
   ],
   "source": [
    "from functions.chroma_utils import *\n",
    "collection_chroma = init_chroma('Transcription')\n",
    "total_count = collection_chroma.count()\n",
    "print(f\"Total de elementos en la colección: {total_count}\")\n",
    "search_chroma(collection_chroma, ['sobre 7 hombres, lo las mujeres'], {'FileId': 'f6a40845-711e-4394-b19b-5cb68bb72017'}, 5)"
   ]
  },
  {
   "cell_type": "code",
   "execution_count": 5,
   "metadata": {},
   "outputs": [
    {
     "name": "stdout",
     "output_type": "stream",
     "text": [
      "Total de elementos en la colección: 26831\n",
      "Total de elementos en la colección: 26831\n",
      "Resultado 1: [' Yo no tengo que entrar en la mongo pedido,', ' en maramo, dice el mongo, que voy a usar el', ' pasadas en mongo, te diría que pasaba por grajar,', ' hablando del hackio de monco, en el empecéntaje un poco nervioso con ese tema, así que espero', ' Mongo que esta institución, este ejecutable,']\n",
      "Metadatos: [{'EndTime': 194.46, 'FileId': 'cd1c7f25-6df4-46ad-ba25-ca4f589976b8', 'FileName': '116541.mp4', 'FolderName': 'Bases de Datos para el Big Data', 'Id': 43, 'StartTime': 191.46}, {'EndTime': 238.36, 'FileId': '9ac2ca21-5378-4da1-b3fb-cf962f8d3574', 'FileName': '91686.mp4', 'FolderName': 'Bases de Datos para el Big Data', 'Id': 58, 'StartTime': 235.36}, {'EndTime': 235.36, 'FileId': '9ac2ca21-5378-4da1-b3fb-cf962f8d3574', 'FileName': '91686.mp4', 'FolderName': 'Bases de Datos para el Big Data', 'Id': 57, 'StartTime': 233.16}, {'EndTime': 34.839999999999996, 'FileId': '44fc89b0-a27f-42ae-80fb-3b6482ea591c', 'FileName': '106153.mp4', 'FolderName': 'Bases de Datos para el Big Data', 'Id': 5, 'StartTime': 28.08}, {'EndTime': 204.46, 'FileId': 'cd1c7f25-6df4-46ad-ba25-ca4f589976b8', 'FileName': '116541.mp4', 'FolderName': 'Bases de Datos para el Big Data', 'Id': 49, 'StartTime': 202.46}]\n"
     ]
    }
   ],
   "source": [
    "from functions.chroma_utils import *  # Asegúrate de tener la función init_chroma() definida aquí\n",
    "\n",
    "\n",
    "collection_chroma = init_chroma('Transcription')\n",
    "total_count = collection_chroma.count()\n",
    "print(f\"Total de elementos en la colección: {total_count}\")\n",
    "\n",
    "# Realizar la búsqueda y almacenar los resultados\n",
    "results = search_chroma(collection_chroma, ['en que clase se habla de mongo?'], {}, 5)\n",
    "\n",
    "# Imprimir los resultados\n",
    "if results['ids']:  # Verificar si hay resultados\n",
    "    for i, document in enumerate(results['documents']):\n",
    "        print(f\"Resultado {i+1}: {document}\")\n",
    "\n",
    "        # Imprimir metadatos si es necesario (ajusta las claves según tus metadatos)\n",
    "        print(\"Metadatos:\", results['metadatas'][i])\n",
    "else:\n",
    "    print(\"No se encontraron resultados.\")\n"
   ]
  },
  {
   "cell_type": "code",
   "execution_count": 1,
   "metadata": {},
   "outputs": [
    {
     "data": {
      "text/plain": [
       "1"
      ]
     },
     "execution_count": 1,
     "metadata": {},
     "output_type": "execute_result"
    }
   ],
   "source": [
    "from functions.mongo_utils import *\n",
    "collection_mongo = init_mongodb(\"Metadata\", \"Transcription\")\n",
    "filter = {\n",
    "                \"FolderName\": 'Análisis e Interpretación de Datos',\n",
    "                \"FileName\": '88730.mp4'\n",
    "            }\n",
    "result = query_mongodb(collection_mongo, filter)\n",
    "len(result)"
   ]
  }
 ],
 "metadata": {
  "kernelspec": {
   "display_name": "env",
   "language": "python",
   "name": "python3"
  },
  "language_info": {
   "codemirror_mode": {
    "name": "ipython",
    "version": 3
   },
   "file_extension": ".py",
   "mimetype": "text/x-python",
   "name": "python",
   "nbconvert_exporter": "python",
   "pygments_lexer": "ipython3",
   "version": "3.11.0rc1"
  }
 },
 "nbformat": 4,
 "nbformat_minor": 2
}
